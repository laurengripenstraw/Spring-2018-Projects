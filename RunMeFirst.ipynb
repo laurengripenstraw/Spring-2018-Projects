{
 "cells": [
  {
   "cell_type": "markdown",
   "metadata": {},
   "source": [
    "I wanted to make my projects accessible for you to run for yourself without installing any software but the online viewer Binder does not have these packages so I am installing them here."
   ]
  },
  {
   "cell_type": "code",
   "execution_count": 2,
   "metadata": {},
   "outputs": [
    {
     "name": "stdout",
     "output_type": "stream",
     "text": [
      "Requirement already satisfied: pandas in ./anaconda3/lib/python3.6/site-packages\n",
      "Requirement already satisfied: python-dateutil>=2 in ./anaconda3/lib/python3.6/site-packages (from pandas)\n",
      "Requirement already satisfied: pytz>=2011k in ./anaconda3/lib/python3.6/site-packages (from pandas)\n",
      "Requirement already satisfied: numpy>=1.7.0 in ./anaconda3/lib/python3.6/site-packages (from pandas)\n",
      "Requirement already satisfied: six>=1.5 in ./anaconda3/lib/python3.6/site-packages (from python-dateutil>=2->pandas)\n",
      "\u001b[33mYou are using pip version 9.0.1, however version 18.0 is available.\n",
      "You should consider upgrading via the 'pip install --upgrade pip' command.\u001b[0m\n",
      "Requirement already satisfied: numpy in ./anaconda3/lib/python3.6/site-packages\n",
      "\u001b[33mYou are using pip version 9.0.1, however version 18.0 is available.\n",
      "You should consider upgrading via the 'pip install --upgrade pip' command.\u001b[0m\n",
      "Requirement already satisfied: matplotlib in ./anaconda3/lib/python3.6/site-packages\n",
      "Requirement already satisfied: numpy>=1.7.1 in ./anaconda3/lib/python3.6/site-packages (from matplotlib)\n",
      "Requirement already satisfied: six>=1.10 in ./anaconda3/lib/python3.6/site-packages (from matplotlib)\n",
      "Requirement already satisfied: python-dateutil>=2.0 in ./anaconda3/lib/python3.6/site-packages (from matplotlib)\n",
      "Requirement already satisfied: pytz in ./anaconda3/lib/python3.6/site-packages (from matplotlib)\n",
      "Requirement already satisfied: cycler>=0.10 in ./anaconda3/lib/python3.6/site-packages (from matplotlib)\n",
      "Requirement already satisfied: pyparsing!=2.0.4,!=2.1.2,!=2.1.6,>=2.0.1 in ./anaconda3/lib/python3.6/site-packages (from matplotlib)\n",
      "\u001b[33mYou are using pip version 9.0.1, however version 18.0 is available.\n",
      "You should consider upgrading via the 'pip install --upgrade pip' command.\u001b[0m\n",
      "Collecting subprocess\n",
      "\u001b[31m  Could not find a version that satisfies the requirement subprocess (from versions: )\u001b[0m\n",
      "\u001b[31mNo matching distribution found for subprocess\u001b[0m\n",
      "\u001b[33mYou are using pip version 9.0.1, however version 18.0 is available.\n",
      "You should consider upgrading via the 'pip install --upgrade pip' command.\u001b[0m\n",
      "Requirement already satisfied: sklearn in ./anaconda3/lib/python3.6/site-packages\n",
      "Requirement already satisfied: scikit-learn in ./anaconda3/lib/python3.6/site-packages (from sklearn)\n",
      "\u001b[33mYou are using pip version 9.0.1, however version 18.0 is available.\n",
      "You should consider upgrading via the 'pip install --upgrade pip' command.\u001b[0m\n",
      "Requirement already satisfied: seaborn in ./anaconda3/lib/python3.6/site-packages\n",
      "Requirement already satisfied: numpy in ./anaconda3/lib/python3.6/site-packages (from seaborn)\n",
      "Requirement already satisfied: scipy in ./anaconda3/lib/python3.6/site-packages (from seaborn)\n",
      "Requirement already satisfied: matplotlib in ./anaconda3/lib/python3.6/site-packages (from seaborn)\n",
      "Requirement already satisfied: pandas in ./anaconda3/lib/python3.6/site-packages (from seaborn)\n",
      "Requirement already satisfied: six>=1.10 in ./anaconda3/lib/python3.6/site-packages (from matplotlib->seaborn)\n",
      "Requirement already satisfied: python-dateutil>=2.0 in ./anaconda3/lib/python3.6/site-packages (from matplotlib->seaborn)\n",
      "Requirement already satisfied: pytz in ./anaconda3/lib/python3.6/site-packages (from matplotlib->seaborn)\n",
      "Requirement already satisfied: cycler>=0.10 in ./anaconda3/lib/python3.6/site-packages (from matplotlib->seaborn)\n",
      "Requirement already satisfied: pyparsing!=2.0.4,!=2.1.2,!=2.1.6,>=2.0.1 in ./anaconda3/lib/python3.6/site-packages (from matplotlib->seaborn)\n",
      "\u001b[33mYou are using pip version 9.0.1, however version 18.0 is available.\n",
      "You should consider upgrading via the 'pip install --upgrade pip' command.\u001b[0m\n",
      "Requirement already satisfied: scipy in ./anaconda3/lib/python3.6/site-packages\n",
      "Requirement already satisfied: numpy>=1.8.2 in ./anaconda3/lib/python3.6/site-packages (from scipy)\n",
      "\u001b[33mYou are using pip version 9.0.1, however version 18.0 is available.\n",
      "You should consider upgrading via the 'pip install --upgrade pip' command.\u001b[0m\n",
      "Requirement already satisfied: ipywidgets in ./anaconda3/lib/python3.6/site-packages\n",
      "Requirement already satisfied: ipykernel>=4.5.1 in ./anaconda3/lib/python3.6/site-packages (from ipywidgets)\n",
      "Requirement already satisfied: traitlets>=4.3.1 in ./anaconda3/lib/python3.6/site-packages (from ipywidgets)\n",
      "Requirement already satisfied: nbformat>=4.2.0 in ./anaconda3/lib/python3.6/site-packages (from ipywidgets)\n",
      "Requirement already satisfied: widgetsnbextension~=3.0.0 in ./anaconda3/lib/python3.6/site-packages (from ipywidgets)\n",
      "Requirement already satisfied: ipython>=4.0.0 in ./anaconda3/lib/python3.6/site-packages (from ipywidgets)\n",
      "Requirement already satisfied: jupyter_client in ./anaconda3/lib/python3.6/site-packages (from ipykernel>=4.5.1->ipywidgets)\n",
      "Requirement already satisfied: tornado>=4.0 in ./anaconda3/lib/python3.6/site-packages (from ipykernel>=4.5.1->ipywidgets)\n",
      "Requirement already satisfied: ipython_genutils in ./anaconda3/lib/python3.6/site-packages (from traitlets>=4.3.1->ipywidgets)\n",
      "Requirement already satisfied: six in ./anaconda3/lib/python3.6/site-packages (from traitlets>=4.3.1->ipywidgets)\n",
      "Requirement already satisfied: decorator in ./anaconda3/lib/python3.6/site-packages (from traitlets>=4.3.1->ipywidgets)\n",
      "Requirement already satisfied: jsonschema!=2.5.0,>=2.4 in ./anaconda3/lib/python3.6/site-packages (from nbformat>=4.2.0->ipywidgets)\n",
      "Requirement already satisfied: jupyter_core in ./anaconda3/lib/python3.6/site-packages (from nbformat>=4.2.0->ipywidgets)\n",
      "Requirement already satisfied: notebook>=4.4.1 in ./anaconda3/lib/python3.6/site-packages (from widgetsnbextension~=3.0.0->ipywidgets)\n",
      "Requirement already satisfied: setuptools>=18.5 in ./anaconda3/lib/python3.6/site-packages (from ipython>=4.0.0->ipywidgets)\n",
      "Requirement already satisfied: jedi>=0.10 in ./anaconda3/lib/python3.6/site-packages (from ipython>=4.0.0->ipywidgets)\n",
      "Requirement already satisfied: pickleshare in ./anaconda3/lib/python3.6/site-packages (from ipython>=4.0.0->ipywidgets)\n",
      "Requirement already satisfied: simplegeneric>0.8 in ./anaconda3/lib/python3.6/site-packages (from ipython>=4.0.0->ipywidgets)\n",
      "Requirement already satisfied: prompt_toolkit<2.0.0,>=1.0.4 in ./anaconda3/lib/python3.6/site-packages (from ipython>=4.0.0->ipywidgets)\n",
      "Requirement already satisfied: pygments in ./anaconda3/lib/python3.6/site-packages (from ipython>=4.0.0->ipywidgets)\n",
      "Requirement already satisfied: appnope in ./anaconda3/lib/python3.6/site-packages (from ipython>=4.0.0->ipywidgets)\n",
      "Requirement already satisfied: pexpect in ./anaconda3/lib/python3.6/site-packages (from ipython>=4.0.0->ipywidgets)\n",
      "Requirement already satisfied: pyzmq>=13 in ./anaconda3/lib/python3.6/site-packages (from jupyter_client->ipykernel>=4.5.1->ipywidgets)\n",
      "Requirement already satisfied: python-dateutil>=2.1 in ./anaconda3/lib/python3.6/site-packages (from jupyter_client->ipykernel>=4.5.1->ipywidgets)\n",
      "Requirement already satisfied: parso>=0.2.0 in ./anaconda3/lib/python3.6/site-packages (from jedi>=0.10->ipython>=4.0.0->ipywidgets)\n",
      "Requirement already satisfied: wcwidth in ./anaconda3/lib/python3.6/site-packages (from prompt_toolkit<2.0.0,>=1.0.4->ipython>=4.0.0->ipywidgets)\n",
      "\u001b[33mYou are using pip version 9.0.1, however version 18.0 is available.\n",
      "You should consider upgrading via the 'pip install --upgrade pip' command.\u001b[0m\n",
      "Requirement already satisfied: nltk in ./anaconda3/lib/python3.6/site-packages\n",
      "Requirement already satisfied: six in ./anaconda3/lib/python3.6/site-packages (from nltk)\n",
      "\u001b[33mYou are using pip version 9.0.1, however version 18.0 is available.\n",
      "You should consider upgrading via the 'pip install --upgrade pip' command.\u001b[0m\n",
      "Requirement already satisfied: imblearn in ./anaconda3/lib/python3.6/site-packages\n",
      "Requirement already satisfied: imbalanced-learn in ./anaconda3/lib/python3.6/site-packages (from imblearn)\n",
      "Requirement already satisfied: numpy in ./anaconda3/lib/python3.6/site-packages (from imbalanced-learn->imblearn)\n",
      "Requirement already satisfied: scipy in ./anaconda3/lib/python3.6/site-packages (from imbalanced-learn->imblearn)\n",
      "Requirement already satisfied: scikit-learn in ./anaconda3/lib/python3.6/site-packages (from imbalanced-learn->imblearn)\n",
      "\u001b[33mYou are using pip version 9.0.1, however version 18.0 is available.\n",
      "You should consider upgrading via the 'pip install --upgrade pip' command.\u001b[0m\n"
     ]
    }
   ],
   "source": [
    "! pip install pandas\n",
    "! pip install numpy\n",
    "! pip install matplotlib\n",
    "! pip install sklearn\n",
    "! pip install seaborn\n",
    "! pip install scipy\n",
    "! pip install ipywidgets\n",
    "! pip install nltk\n",
    "! pip install imblearn"
   ]
  },
  {
   "cell_type": "code",
   "execution_count": null,
   "metadata": {
    "collapsed": true
   },
   "outputs": [],
   "source": []
  }
 ],
 "metadata": {
  "kernelspec": {
   "display_name": "Python 3",
   "language": "python",
   "name": "python3"
  },
  "language_info": {
   "codemirror_mode": {
    "name": "ipython",
    "version": 3
   },
   "file_extension": ".py",
   "mimetype": "text/x-python",
   "name": "python",
   "nbconvert_exporter": "python",
   "pygments_lexer": "ipython3",
   "version": "3.6.3"
  }
 },
 "nbformat": 4,
 "nbformat_minor": 2
}
