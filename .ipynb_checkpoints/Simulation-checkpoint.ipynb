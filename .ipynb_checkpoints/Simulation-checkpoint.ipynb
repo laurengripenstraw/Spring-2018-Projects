{
 "cells": [
  {
   "cell_type": "markdown",
   "metadata": {},
   "source": [
    "# Assignment 1\n",
    "### Lauren Gripenstraw"
   ]
  },
  {
   "cell_type": "markdown",
   "metadata": {},
   "source": [
    "For this assignment, I chose to simulate 100 observations from a standard normal distribution 1000 times, counting the number of times the sample means and variances were outside the bounds of a 1 - $\\alpha$ = 0.95 theoretical confidence interval."
   ]
  },
  {
   "cell_type": "code",
   "execution_count": null,
   "metadata": {},
   "outputs": [],
   "source": [
    "import numpy as np\n",
    "from scipy.stats import chi2"
   ]
  },
  {
   "cell_type": "markdown",
   "metadata": {},
   "source": [
    "Here I imported the needed packages, NumPy for the random generation and math operations with arrays, and Chi2 from Stats from the SciPy package to help me calculate the theoretical confidence interval based on the confidence interval formula for variance."
   ]
  },
  {
   "cell_type": "code",
   "execution_count": null,
   "metadata": {},
   "outputs": [],
   "source": [
    "theoretical_ci_mean = [-1.96 * 0.1, 1.96 * 0.1]"
   ]
  },
  {
   "cell_type": "code",
   "execution_count": null,
   "metadata": {},
   "outputs": [],
   "source": [
    "theoretical_ci_mean"
   ]
  },
  {
   "cell_type": "markdown",
   "metadata": {},
   "source": [
    "Here I calculated the theoretical confidence interval for the mean based on the standard formula learned in prior stats classes, which is $\\overline{X} \\pm z_{\\alpha/2}\\frac{\\sigma}{\\sqrt{n}}$ , where $n = 100$, $\\sigma = 1$ and $\\alpha = 0.05$. I obtained the $z$ value from a standard normal probability distribution table."
   ]
  },
  {
   "cell_type": "code",
   "execution_count": null,
   "metadata": {},
   "outputs": [],
   "source": [
    "theoretical_ci_var = [(99/(chi2.isf(q = 0.025, df = 99))), (99/(chi2.isf(q = 0.975, df = 99)))]"
   ]
  },
  {
   "cell_type": "code",
   "execution_count": null,
   "metadata": {},
   "outputs": [],
   "source": [
    "theoretical_ci_var"
   ]
  },
  {
   "cell_type": "markdown",
   "metadata": {},
   "source": [
    "Here I calculated the theoretical confidence interval for the variance based on the standard formula learned in prior stats classes, which is $[\\frac {(n-1)S^2}{\\chi^2_{\\alpha/2}} , \\frac {(n-1)S^2}{\\chi^2_{1-\\alpha/2}}]$ , where $n = 100$, $S^2$ is substituted with the known population variance, $\\sigma^2 = 1$ and $\\alpha = 0.05$. I obtained the $\\chi^2$ value from a $\\chi^2$ probability distribution table."
   ]
  },
  {
   "cell_type": "code",
   "execution_count": null,
   "metadata": {},
   "outputs": [],
   "source": [
    "count_mean = 0\n",
    "count_var = 0\n",
    "sim = np.array([None] * 1000)"
   ]
  },
  {
   "cell_type": "markdown",
   "metadata": {},
   "source": [
    "Here I initialize the variables to count how many of the sample means and variances are outside of the theoretical confidence intervals as well as the array of lists of random values simulating a normal distribution."
   ]
  },
  {
   "cell_type": "code",
   "execution_count": null,
   "metadata": {},
   "outputs": [],
   "source": [
    "np.random.seed(111)"
   ]
  },
  {
   "cell_type": "markdown",
   "metadata": {},
   "source": [
    "Here I am setting a seed to ensure that my random results are reproducible."
   ]
  },
  {
   "cell_type": "code",
   "execution_count": null,
   "metadata": {},
   "outputs": [],
   "source": [
    "for x in range(0, 1000):\n",
    "    sim[x] = [np.random.normal(0.0, 1.0, 100)]\n",
    "    mean = np.mean(sim[x])\n",
    "    if -0.196 <= mean <= 0.196:\n",
    "        pass\n",
    "    else:\n",
    "        count_mean += 1\n",
    "    var = np.var(sim[x])\n",
    "    if 0.77089602057605644 <= var <= 1.3494893987638228:\n",
    "        pass\n",
    "    else:\n",
    "        count_var += 1"
   ]
  },
  {
   "cell_type": "markdown",
   "metadata": {},
   "source": [
    "Here I have built a loop to create 1000 simulated lists of 100 values from a standard normal distribution. The loop also computes the sample mean and variance and checks if they are within the confidence intervals. For every one that is outside the confidence interval, count_mean and count_var are increased, for means and variances respectively."
   ]
  },
  {
   "cell_type": "code",
   "execution_count": null,
   "metadata": {},
   "outputs": [],
   "source": [
    "print(count_mean)"
   ]
  },
  {
   "cell_type": "markdown",
   "metadata": {},
   "source": [
    "Here I show the number of times a sample mean occurred that was outside the bounds of the confidence interval."
   ]
  },
  {
   "cell_type": "code",
   "execution_count": null,
   "metadata": {},
   "outputs": [],
   "source": [
    "print(count_var)"
   ]
  },
  {
   "cell_type": "markdown",
   "metadata": {},
   "source": [
    "Here I show the number of times a sample variance occurred that was outside the bounds of the confidence interval."
   ]
  },
  {
   "cell_type": "markdown",
   "metadata": {},
   "source": [
    "The results are roughly as expected. About 5% of the time, the sample results fell outside of the confidence interval. I also tried different values for the amount of simulated lists, as well as different seeds to change the random values. What I found is that the amount of sample variances that fell outside of the confidence interval was consistently higher than the amount of sample means that fell outside of the confidence interval. This can possibly be explained by the fact that there is generally more variability in variances than in means."
   ]
  },
  {
   "cell_type": "code",
   "execution_count": null,
   "metadata": {},
   "outputs": [],
   "source": []
  }
 ],
 "metadata": {
  "language_info": {
   "name": "python",
   "pygments_lexer": "ipython3"
  }
 },
 "nbformat": 4,
 "nbformat_minor": 2
}
