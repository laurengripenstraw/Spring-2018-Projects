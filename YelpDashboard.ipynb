{
 "cells": [
  {
   "cell_type": "markdown",
   "metadata": {},
   "source": [
    "# Assignment 2\n",
    "## Lauren Gripenstraw"
   ]
  },
  {
   "cell_type": "markdown",
   "metadata": {},
   "source": [
    "In this notebook, I create an interactive dashboard using data on Santa Barbara and Goleta restaurants from the Yelp API."
   ]
  },
  {
   "cell_type": "markdown",
   "metadata": {},
   "source": [
    "First, I import the necessary packages."
   ]
  },
  {
   "cell_type": "code",
   "execution_count": null,
   "metadata": {},
   "outputs": [],
   "source": [
    "import pandas as pd\n",
    "import numpy as np\n",
    "import matplotlib\n",
    "\n",
    "from ipywidgets import widgets, interactive"
   ]
  },
  {
   "cell_type": "markdown",
   "metadata": {},
   "source": [
    "The following is my function for reading in the data from the Yelp API. It was modified from the code provided on GitHub by Yelp for this purpose."
   ]
  },
  {
   "cell_type": "code",
   "execution_count": null,
   "metadata": {},
   "outputs": [],
   "source": [
    "\n",
    "\n",
    "\n",
    "from __future__ import print_function\n",
    "\n",
    "import argparse\n",
    "import json\n",
    "import pprint\n",
    "import requests\n",
    "import sys\n",
    "import urllib\n",
    "\n",
    "\n",
    "\n",
    "try:\n",
    "    from urllib.error import HTTPError\n",
    "    from urllib.parse import quote\n",
    "    from urllib.parse import urlencode\n",
    "except ImportError:\n",
    "    from urllib2 import HTTPError\n",
    "    from urllib import quote\n",
    "    from urllib import urlencode\n",
    "\n",
    "\n",
    "API_KEY= '8DTWnf5EuPNKEzu13U1225FpWzLryVmZbbu58HpF52S-kAQUMz1NsLz6GR_M5qxGHqkh2-d9fDIxuXAnNYahODuxnsri_PpGeN5u7OBWr56MrDOJPiQICLrJ_mXfWnYx'\n",
    "\n",
    "\n",
    "\n",
    "\n",
    "\n",
    "API_HOST = 'https://api.yelp.com/v3'\n",
    "SEARCH_PATH = '/businesses/search'\n",
    "BUSINESS_PATH = '/v3/businesses/'  \n",
    "\n",
    "\n",
    "\n",
    "\n",
    "def get_yelp_data(offset):\n",
    "    \n",
    "    \n",
    "    host = API_HOST\n",
    "    path = SEARCH_PATH\n",
    "    api_key = API_KEY\n",
    "    url = '{0}{1}'.format(host, quote(path.encode('utf8')))\n",
    "    headers = {\n",
    "        'Authorization': 'Bearer %s' % api_key\n",
    "    }\n",
    "\n",
    "    params = {\"term\": \"restaurant\",\n",
    "              \"offset\":offset\n",
    "              }\n",
    "    \n",
    "    print(u'Querying {0} ...'.format(url))\n",
    "\n",
    "    response = requests.request('GET', \"https://api.yelp.com/v3/businesses/search?location=Santa Barbara+Goleta&limit=50&sort=0\", params = params, headers = headers)\n",
    "    return response.json()\n"
   ]
  },
  {
   "cell_type": "code",
   "execution_count": null,
   "metadata": {},
   "outputs": [],
   "source": [
    "i = 0"
   ]
  },
  {
   "cell_type": "markdown",
   "metadata": {},
   "source": [
    "The following is a loop to read in as much data as Yelp would allow me."
   ]
  },
  {
   "cell_type": "code",
   "execution_count": null,
   "metadata": {},
   "outputs": [],
   "source": [
    "while (i <= 150):\n",
    "    new_yelp_data = get_yelp_data(i)\n",
    "    if (i == 0):\n",
    "        yelp_data_all = new_yelp_data\n",
    "    else:\n",
    "        yelp_data_all = dict(yelp_data_all, **new_yelp_data)\n",
    "    i += 50"
   ]
  },
  {
   "cell_type": "markdown",
   "metadata": {},
   "source": [
    "Here I change the \"businesses\" component of the gathered data from a dict to a Pandas DataFrame."
   ]
  },
  {
   "cell_type": "code",
   "execution_count": null,
   "metadata": {},
   "outputs": [],
   "source": [
    "yelp_data = pd.DataFrame.from_dict(yelp_data_all[\"businesses\"])"
   ]
  },
  {
   "cell_type": "markdown",
   "metadata": {},
   "source": [
    "Just checking that everything is correct."
   ]
  },
  {
   "cell_type": "code",
   "execution_count": null,
   "metadata": {},
   "outputs": [],
   "source": [
    "yelp_data.head()"
   ]
  },
  {
   "cell_type": "markdown",
   "metadata": {},
   "source": [
    "Here I am selecting only the columns I am interested in. I selected the columns that display category, location, name, rating and price."
   ]
  },
  {
   "cell_type": "code",
   "execution_count": null,
   "metadata": {},
   "outputs": [],
   "source": [
    "yelp_data_clean = pd.DataFrame(yelp_data.iloc[:, [1, 8, 9, 11, 12]])"
   ]
  },
  {
   "cell_type": "markdown",
   "metadata": {},
   "source": [
    "Checking for accuracy again."
   ]
  },
  {
   "cell_type": "code",
   "execution_count": null,
   "metadata": {},
   "outputs": [],
   "source": [
    "yelp_data_clean.head()"
   ]
  },
  {
   "cell_type": "markdown",
   "metadata": {},
   "source": [
    "Some rows have many entries for \"categories.\" Here I first take the first dict of category alias and title from every row, assuming that to be the most relevant category. Next, from that dict I select the title entry."
   ]
  },
  {
   "cell_type": "code",
   "execution_count": null,
   "metadata": {},
   "outputs": [],
   "source": [
    "yelp_data_clean['categories'] = [d[0] for d in yelp_data_clean.categories]"
   ]
  },
  {
   "cell_type": "code",
   "execution_count": null,
   "metadata": {},
   "outputs": [],
   "source": [
    "yelp_data_clean[\"categories\"] = [d[\"title\"] for d in yelp_data_clean.categories]"
   ]
  },
  {
   "cell_type": "code",
   "execution_count": null,
   "metadata": {},
   "outputs": [],
   "source": [
    "yelp_data_clean.head()"
   ]
  },
  {
   "cell_type": "markdown",
   "metadata": {},
   "source": [
    "Here I am selecting just the city from each row's location dict."
   ]
  },
  {
   "cell_type": "code",
   "execution_count": null,
   "metadata": {},
   "outputs": [],
   "source": [
    "yelp_data_clean[\"location\"] = [d[\"city\"] for d in yelp_data_clean.location]"
   ]
  },
  {
   "cell_type": "code",
   "execution_count": null,
   "metadata": {},
   "outputs": [],
   "source": [
    "yelp_data_clean.head()"
   ]
  },
  {
   "cell_type": "markdown",
   "metadata": {},
   "source": [
    "A few restaurants that are not in Santa Barbara or Goleta made it into the data, I believe due to Yelp's default radius criteria. I tried to modify my get_yelp_data function to eliminate these, but was unsuccessful. Here I am simply removing them because they do not fit into the categories I will use in my menus."
   ]
  },
  {
   "cell_type": "code",
   "execution_count": null,
   "metadata": {},
   "outputs": [],
   "source": [
    "yelp_data_clean = yelp_data_clean.loc[yelp_data_clean[\"location\"].isin([\"Santa Barbara\", \"Goleta\"])]"
   ]
  },
  {
   "cell_type": "code",
   "execution_count": null,
   "metadata": {},
   "outputs": [],
   "source": [
    "yelp_data_clean.head()"
   ]
  },
  {
   "cell_type": "markdown",
   "metadata": {},
   "source": [
    "Here I just rename all the columns with proper capitalization, to make the selections in the menus appear more attractive as opposed to entirely lowercase."
   ]
  },
  {
   "cell_type": "code",
   "execution_count": null,
   "metadata": {},
   "outputs": [],
   "source": [
    "yelp_data_clean.columns = ['Categories', 'Location', 'Name', 'Price', 'Rating']"
   ]
  },
  {
   "cell_type": "markdown",
   "metadata": {},
   "source": [
    "I encountered an error when building the plots due to the price symbol '$$' being mistaken for LaTEX, so here I just re-code the price symbols to numbers."
   ]
  },
  {
   "cell_type": "code",
   "execution_count": null,
   "metadata": {},
   "outputs": [],
   "source": [
    "yelp_data_clean['Price'] = yelp_data_clean['Price'].map({'$': '1', '$$': '2', '$$$': '3', '$$$$': '4'})\n"
   ]
  },
  {
   "cell_type": "code",
   "execution_count": null,
   "metadata": {},
   "outputs": [],
   "source": [
    "yelp_data_clean.head()"
   ]
  },
  {
   "cell_type": "markdown",
   "metadata": {},
   "source": [
    "Here are my widgets, which create the drop-down menu selectors for my plots. The first is a location menu which contains \"Santa Barbara\", \"Goleta\", or \"All\". The second menu is a features menu which selects which feature to display. The choices are \"Categories\", \"Price\", \"Rating\", and \"Average Rating per Category.\""
   ]
  },
  {
   "cell_type": "code",
   "execution_count": null,
   "metadata": {},
   "outputs": [],
   "source": [
    "location = widgets.Dropdown(\n",
    "    options=['All'] + list(yelp_data_clean['Location'].unique()),\n",
    "    value='All',\n",
    "    description='Location:',\n",
    ")"
   ]
  },
  {
   "cell_type": "code",
   "execution_count": null,
   "metadata": {},
   "outputs": [],
   "source": [
    "features = widgets.Dropdown(\n",
    "    options = list(yelp_data_clean[['Categories', 'Price', 'Rating']]) + ['Average Rating per Category'],\n",
    "    value = 'Categories',\n",
    "    description='Feature:',\n",
    ")"
   ]
  },
  {
   "cell_type": "markdown",
   "metadata": {},
   "source": [
    "This is a plotting function that takes two parameters indicating the selections from the two drop down menus, with if and else statements to determine the correct plot to draw."
   ]
  },
  {
   "cell_type": "code",
   "execution_count": null,
   "metadata": {},
   "outputs": [],
   "source": [
    "def plotit(location, features):\n",
    "        yelp2 = yelp_data_clean.copy()\n",
    "        if location != 'All':\n",
    "            yelp2 = yelp2[yelp2.Location == location]\n",
    "\n",
    "        if features == 'Categories':\n",
    "            yelp2['Categories'].value_counts().plot(kind = 'bar')\n",
    "        elif features == 'Price':\n",
    "            yelp2['Price'].value_counts().plot(kind = 'bar')\n",
    "        elif features == 'Rating':\n",
    "            yelp2.groupby('Rating').size().plot(kind = 'bar')\n",
    "        else:\n",
    "            yelp2.groupby('Categories')['Rating'].mean().plot(kind = 'bar')"
   ]
  },
  {
   "cell_type": "markdown",
   "metadata": {},
   "source": [
    "Here is where I call the function and the widgets to make an interactive dashboard."
   ]
  },
  {
   "cell_type": "code",
   "execution_count": null,
   "metadata": {},
   "outputs": [],
   "source": [
    "interactive(plotit, location = location, features = features)\n"
   ]
  },
  {
   "cell_type": "code",
   "execution_count": null,
   "metadata": {},
   "outputs": [],
   "source": []
  }
 ],
 "metadata": {
  "language_info": {
   "name": "python",
   "pygments_lexer": "ipython3"
  }
 },
 "nbformat": 4,
 "nbformat_minor": 2
}
