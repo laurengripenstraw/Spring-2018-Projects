{
 "cells": [
  {
   "cell_type": "code",
   "execution_count": 1,
   "metadata": {},
   "outputs": [
    {
     "name": "stderr",
     "output_type": "stream",
     "text": [
      "Updating HTML index of packages in '.Library'\n",
      "Making 'packages.html' ... done\n",
      "Updating HTML index of packages in '.Library'\n",
      "Making 'packages.html' ... done\n",
      "Updating HTML index of packages in '.Library'\n",
      "Making 'packages.html' ... done\n",
      "Updating HTML index of packages in '.Library'\n",
      "Making 'packages.html' ... done\n",
      "Updating HTML index of packages in '.Library'\n",
      "Making 'packages.html' ... done\n",
      "Updating HTML index of packages in '.Library'\n",
      "Making 'packages.html' ... done\n",
      "also installing the dependencies ‘gmp’, ‘Rmpfr’\n",
      "\n",
      "Warning message in install.packages(\"ldatuning\"):\n",
      "“installation of package ‘gmp’ had non-zero exit status”Warning message in install.packages(\"ldatuning\"):\n",
      "“installation of package ‘Rmpfr’ had non-zero exit status”Warning message in install.packages(\"ldatuning\"):\n",
      "“installation of package ‘ldatuning’ had non-zero exit status”Updating HTML index of packages in '.Library'\n",
      "Making 'packages.html' ... done\n",
      "Updating HTML index of packages in '.Library'\n",
      "Making 'packages.html' ... done\n",
      "Loading required package: NLP\n",
      "Loading required package: RColorBrewer\n"
     ]
    },
    {
     "ename": "ERROR",
     "evalue": "Error in library(ldatuning): there is no package called ‘ldatuning’\n",
     "output_type": "error",
     "traceback": [
      "Error in library(ldatuning): there is no package called ‘ldatuning’\nTraceback:\n",
      "1. library(ldatuning)",
      "2. stop(txt, domain = NA)"
     ]
    }
   ],
   "source": [
    "## Import and install necessary modules\n",
    "\n",
    "install.packages(\"tidytext\")\n",
    "install.packages(\"tm\")\n",
    "install.packages(\"SnowballC\")\n",
    "install.packages(\"wordcloud\")\n",
    "install.packages(\"RColorBrewer\")\n",
    "install.packages(\"topicmodels\")\n",
    "install.packages(\"ldatuning\") #package may not install on jupyterhub. May need to run localy.\n",
    "install.packages(\"SentimentAnalysis\")\n",
    "\n",
    "library(tidytext)\n",
    "library(tm)\n",
    "library(SnowballC)\n",
    "library(wordcloud)\n",
    "library(RColorBrewer)\n",
    "library(topicmodels)\n",
    "library(ldatuning)\n",
    "library(SentimentAnalysis)"
   ]
  },
  {
   "cell_type": "markdown",
   "metadata": {},
   "source": [
    "We begin by installing the necessary modules for our analysis."
   ]
  },
  {
   "cell_type": "code",
   "execution_count": 9,
   "metadata": {},
   "outputs": [],
   "source": [
    "## Read Data\n",
    "\n",
    "reviews <- read.csv(\"yelp.csv\", stringsAsFactors = F)         #Read calls from subset of first dataset                                                                          in which all calls entirely composed of                                                                          stopwords have been removed\n",
    "reviews <- as.matrix(reviews[5])                                #Convert data to matrix\n",
    "reviews.vec <- VectorSource(reviews)                            #Create data vector\n",
    "reviews.corpus <- Corpus(reviews.vec)                           #Create corpus"
   ]
  },
  {
   "cell_type": "markdown",
   "metadata": {},
   "source": [
    "The next step is to read in our data and convert it into a corpus so that we can apply text mining methods to it. "
   ]
  },
  {
   "cell_type": "code",
   "execution_count": 10,
   "metadata": {},
   "outputs": [],
   "source": [
    "## Clean Data\n",
    "\n",
    "reviews.corpus <- tm_map(reviews.corpus, tolower)                               #Remove capital letters\n",
    "reviews.corpus <- tm_map(reviews.corpus, removePunctuation)                     #Remove punctuation\n",
    "reviews.corpus <- tm_map(reviews.corpus, removeNumbers)                         #Remove numbers\n",
    "reviews.corpus <- tm_map(reviews.corpus, removeWords, stopwords(\"english\"))     #Remove stopwords\n",
    "reviews.corpus <- tm_map(reviews.corpus, stemDocument)                          #Stem words\n",
    "reviews.corpus <- tm_map(reviews.corpus, stripWhitespace)                       #Remove whitespace"
   ]
  },
  {
   "cell_type": "markdown",
   "metadata": {},
   "source": [
    "Once the data has been read, it is necessary to clean it. Preprocessing makes the text more uniform and ultimately improves results. Here, we convert all text to lower case, remove punctuation, numbers, and stopwords, stem words, and remove extra whitespace. The benefits to each process are:\n",
    "\n",
    "**Lower case:** Converting all text to lower case ensures that words with different capitalizations are not counted differently. For example, we do not want \"Text\" and \"text\" to be counted as different words as this can significantly alter results. Perhaps this process is not desired if one wishes to understand what people start their sentences with, but that is not the aim of our project.\n",
    "\n",
    "**Remove Punctuation:** Again, this further renders our data uniform. It is also possible that failing to remove punctuation could count \"text-mining,\" \"text mining\", and \"text mining.\" differently.\n",
    "\n",
    "**Remove Numbers:** Although extracting numbers in a review may uncover certain information, they are difficult to work with and would most likely have very little impact on our project.\n",
    "\n",
    "**Remove Stop Words:** Stop words are words with very little predictive value. These often clutter the dataset without providing any insight. An added benefit is that working with the dataset after removing these words is more computationally efficient.\n",
    "\n",
    "**Stem Words:** Words of various conjugations and forms have the same meaning for our purposes so we do not want them to be counted separately. For example, \"visit,\" \"visited,\" and \"visitor\" all convey the same general meaning and thus we would like them grouped together. This method may backfire for certain words, but it generally improves results overall.\n",
    "\n",
    "**Stripping White Space:** After performing these pre-processing operations, we are left with many empty spaces which make the data difficult to read. Stripping unnecessary whitespace remedies this issue and makes our data more coherent."
   ]
  },
  {
   "cell_type": "code",
   "execution_count": 11,
   "metadata": {},
   "outputs": [
    {
     "name": "stderr",
     "output_type": "stream",
     "text": [
      "Warning message in weighting(x):\n",
      "“empty document(s): 6451 6709”"
     ]
    },
    {
     "data": {
      "text/plain": [
       "<<TermDocumentMatrix (terms: 958, documents: 10000)>>\n",
       "Non-/sparse entries: 400430/9179570\n",
       "Sparsity           : 96%\n",
       "Maximal term length: 12\n",
       "Weighting          : term frequency - inverse document frequency (normalized) (tf-idf)"
      ]
     },
     "metadata": {},
     "output_type": "display_data"
    },
    {
     "data": {
      "text/html": [
       "<table>\n",
       "<thead><tr><th></th><th scope=col>word</th><th scope=col>freq</th></tr></thead>\n",
       "<tbody>\n",
       "\t<tr><th scope=row>great</th><td>great   </td><td>198.3602</td></tr>\n",
       "\t<tr><th scope=row>food</th><td>food    </td><td>183.9265</td></tr>\n",
       "\t<tr><th scope=row>good</th><td>good    </td><td>171.4102</td></tr>\n",
       "\t<tr><th scope=row>place</th><td>place   </td><td>164.3993</td></tr>\n",
       "\t<tr><th scope=row>love</th><td>love    </td><td>155.1463</td></tr>\n",
       "\t<tr><th scope=row>servic</th><td>servic  </td><td>145.8569</td></tr>\n",
       "\t<tr><th scope=row>best</th><td>best    </td><td>121.8910</td></tr>\n",
       "\t<tr><th scope=row>time</th><td>time    </td><td>120.8798</td></tr>\n",
       "\t<tr><th scope=row>like</th><td>like    </td><td>120.8688</td></tr>\n",
       "\t<tr><th scope=row>get</th><td>get     </td><td>119.4915</td></tr>\n",
       "\t<tr><th scope=row>friend</th><td>friend  </td><td>119.1569</td></tr>\n",
       "\t<tr><th scope=row>just</th><td>just    </td><td>113.6096</td></tr>\n",
       "\t<tr><th scope=row>price</th><td>price   </td><td>112.9885</td></tr>\n",
       "\t<tr><th scope=row>pizza</th><td>pizza   </td><td>112.4825</td></tr>\n",
       "\t<tr><th scope=row>one</th><td>one     </td><td>110.9642</td></tr>\n",
       "\t<tr><th scope=row>alway</th><td>alway   </td><td>110.3230</td></tr>\n",
       "\t<tr><th scope=row>realli</th><td>realli  </td><td>107.4627</td></tr>\n",
       "\t<tr><th scope=row>nice</th><td>nice    </td><td>106.8267</td></tr>\n",
       "\t<tr><th scope=row>order</th><td>order   </td><td>106.4100</td></tr>\n",
       "\t<tr><th scope=row>tri</th><td>tri     </td><td>100.9114</td></tr>\n",
       "</tbody>\n",
       "</table>\n"
      ],
      "text/latex": [
       "\\begin{tabular}{r|ll}\n",
       "  & word & freq\\\\\n",
       "\\hline\n",
       "\tgreat & great    & 198.3602\\\\\n",
       "\tfood & food     & 183.9265\\\\\n",
       "\tgood & good     & 171.4102\\\\\n",
       "\tplace & place    & 164.3993\\\\\n",
       "\tlove & love     & 155.1463\\\\\n",
       "\tservic & servic   & 145.8569\\\\\n",
       "\tbest & best     & 121.8910\\\\\n",
       "\ttime & time     & 120.8798\\\\\n",
       "\tlike & like     & 120.8688\\\\\n",
       "\tget & get      & 119.4915\\\\\n",
       "\tfriend & friend   & 119.1569\\\\\n",
       "\tjust & just     & 113.6096\\\\\n",
       "\tprice & price    & 112.9885\\\\\n",
       "\tpizza & pizza    & 112.4825\\\\\n",
       "\tone & one      & 110.9642\\\\\n",
       "\talway & alway    & 110.3230\\\\\n",
       "\trealli & realli   & 107.4627\\\\\n",
       "\tnice & nice     & 106.8267\\\\\n",
       "\torder & order    & 106.4100\\\\\n",
       "\ttri & tri      & 100.9114\\\\\n",
       "\\end{tabular}\n"
      ],
      "text/markdown": [
       "\n",
       "| <!--/--> | word | freq | \n",
       "|---|---|---|---|---|---|---|---|---|---|---|---|---|---|---|---|---|---|---|---|\n",
       "| great | great    | 198.3602 | \n",
       "| food | food     | 183.9265 | \n",
       "| good | good     | 171.4102 | \n",
       "| place | place    | 164.3993 | \n",
       "| love | love     | 155.1463 | \n",
       "| servic | servic   | 145.8569 | \n",
       "| best | best     | 121.8910 | \n",
       "| time | time     | 120.8798 | \n",
       "| like | like     | 120.8688 | \n",
       "| get | get      | 119.4915 | \n",
       "| friend | friend   | 119.1569 | \n",
       "| just | just     | 113.6096 | \n",
       "| price | price    | 112.9885 | \n",
       "| pizza | pizza    | 112.4825 | \n",
       "| one | one      | 110.9642 | \n",
       "| alway | alway    | 110.3230 | \n",
       "| realli | realli   | 107.4627 | \n",
       "| nice | nice     | 106.8267 | \n",
       "| order | order    | 106.4100 | \n",
       "| tri | tri      | 100.9114 | \n",
       "\n",
       "\n"
      ],
      "text/plain": [
       "       word   freq    \n",
       "great  great  198.3602\n",
       "food   food   183.9265\n",
       "good   good   171.4102\n",
       "place  place  164.3993\n",
       "love   love   155.1463\n",
       "servic servic 145.8569\n",
       "best   best   121.8910\n",
       "time   time   120.8798\n",
       "like   like   120.8688\n",
       "get    get    119.4915\n",
       "friend friend 119.1569\n",
       "just   just   113.6096\n",
       "price  price  112.9885\n",
       "pizza  pizza  112.4825\n",
       "one    one    110.9642\n",
       "alway  alway  110.3230\n",
       "realli realli 107.4627\n",
       "nice   nice   106.8267\n",
       "order  order  106.4100\n",
       "tri    tri    100.9114"
      ]
     },
     "metadata": {},
     "output_type": "display_data"
    },
    {
     "ename": "ERROR",
     "evalue": "Error in TermDocumentMatrix(calls.corpus, control = list(weighting = weightTfIdf)): object 'calls.corpus' not found\n",
     "output_type": "error",
     "traceback": [
      "Error in TermDocumentMatrix(calls.corpus, control = list(weighting = weightTfIdf)): object 'calls.corpus' not found\nTraceback:\n",
      "1. inspect(TermDocumentMatrix(calls.corpus, control = list(weighting = weightTfIdf)))",
      "2. TermDocumentMatrix(calls.corpus, control = list(weighting = weightTfIdf))"
     ]
    }
   ],
   "source": [
    "## Word Frequencies\n",
    "\n",
    "#Create Term Document Matrix\n",
    "tdm <- TermDocumentMatrix(reviews.corpus, \n",
    "        control=list(weighting=weightTfIdf))            #Specify weighting (currently TF-IDF)\n",
    "\n",
    "removeSparseTerms(tdm, 0.99)                           #Remove infrequent terms\n",
    "\n",
    "tdm <- as.matrix(tdm)                                  #Convert term document matrix to matrix form\n",
    "\n",
    "\n",
    "v <- sort(rowSums(tdm),decreasing=TRUE)                #Sort in order\n",
    "d <- data.frame(word = names(v),freq=v)                #Convert to dataframe\n",
    "head(d, 20)                                            #Preview data\n",
    "#inspect(TermDocumentMatrix(calls.corpus,               #Inspect term document matrix\n",
    "#        control = list(weighting = weightTfIdf)))"
   ]
  },
  {
   "cell_type": "markdown",
   "metadata": {},
   "source": [
    "Now that our dataset is ready for analysis, we create a term-document matrix which shows the TF-IDF weight of each word in each review. Here, we remove infrequent terms to keep our matrix small while preserving its statistical abilities. Before moving on, we also sort our data, convert it into a dataframe, and inspect our term-document matrix."
   ]
  },
  {
   "cell_type": "code",
   "execution_count": 5,
   "metadata": {},
   "outputs": [
    {
     "ename": "ERROR",
     "evalue": "Error in wordcloud(words = d$word, freq = d$freq, min.freq = 1, max.words = 35, : object 'd' not found\n",
     "output_type": "error",
     "traceback": [
      "Error in wordcloud(words = d$word, freq = d$freq, min.freq = 1, max.words = 35, : object 'd' not found\nTraceback:\n",
      "1. wordcloud(words = d$word, freq = d$freq, min.freq = 1, max.words = 35, \n .     random.order = FALSE, rot.per = 0.3, colors = brewer.pal(8, \n .         \"Dark2\"))"
     ]
    }
   ],
   "source": [
    "## Create Word Cloud\n",
    "\n",
    "set.seed(9162)\n",
    "wordcloud(words=d$word, freq=d$freq, min.freq=1,max.words=35, \n",
    "          random.order=FALSE, rot.per=0.3, colors=brewer.pal(8, \"Dark2\"))"
   ]
  },
  {
   "cell_type": "markdown",
   "metadata": {},
   "source": [
    "Word clouds are an effective exploratory methods in text-mining as they visually show important words in the corpus. As a result, we receive a quick, general idea of the kinds of words our dataset contains. More important (e.g. prevalent, high TF-IDF weight) words are larger and closer to the center of the cloud."
   ]
  },
  {
   "cell_type": "code",
   "execution_count": 13,
   "metadata": {},
   "outputs": [
    {
     "ename": "ERROR",
     "evalue": "Error in FindTopicsNumber(dtm.new, topics = seq(from = 10, to = 10, by = 1), : could not find function \"FindTopicsNumber\"\n",
     "output_type": "error",
     "traceback": [
      "Error in FindTopicsNumber(dtm.new, topics = seq(from = 10, to = 10, by = 1), : could not find function \"FindTopicsNumber\"\nTraceback:\n"
     ]
    }
   ],
   "source": [
    "## Topic Modeling Preparation\n",
    "\n",
    "dtm <- DocumentTermMatrix(reviews.corpus, control=list(weighting = weightTf)) #(Different than preivous tdm)\n",
    "rowTotals <- apply(dtm, 1, sum)\n",
    "dtm.new   <- dtm[rowTotals > 0, ]     #Modify new term document matrix for LDA\n",
    "\n",
    "#Finding ideal number of topics (currently evaluating between 5-15)\n",
    "#Takes a long time to run\n",
    "\n",
    "idealk <- FindTopicsNumber(dtm.new, topics = seq(from=10, to=10, by=1),\n",
    "  metrics = c(\"CaoJuan2009\", \"Arun2010\", \"Deveaud2014\"),\n",
    "  method = \"VEM\", control = list(seed=77), verbose = TRUE)\n",
    "\n",
    "\n",
    "FindTopicsNumber_plot(idealk)"
   ]
  },
  {
   "cell_type": "markdown",
   "metadata": {},
   "source": [
    "Although we performed our topic modeling in Python, we wanted to see if we could find an optimal number of topics, k. This function uses various metrics to find the answer; however, we did not use these results to proceed with our analysis for various reasons. \n",
    "\n",
    "**1:** This method indicates our number of topics should be much higher than 15 (the maximum we tested), but we opted to use 10 because using many topics was computationally expensive\n",
    "\n",
    "**2:** This function is designed for finding the best number of LDA topics. We used both LDA and NMF in our analysis.\n",
    "\n",
    "**3:** This method takes a long time to run. We are currently running it between 5 and 15 topics and the marginal increase in running time increases with each additional topic"
   ]
  },
  {
   "cell_type": "code",
   "execution_count": 18,
   "metadata": {},
   "outputs": [],
   "source": [
    "## Sentiment Analysis\n",
    "#install.packages(\"SentimentAnalysis\")\n",
    "library(SentimentAnalysis)\n",
    "sent <- analyzeSentiment(reviews.corpus)     #Sentiment Analysis\n",
    "plotSentiment(sent)                        #Plot\n",
    "\n",
    "binSent <- convertToBinaryResponse(sent)   #Binary response\n",
    "dirSent <- convertToDirection(sent)        #Directional response\n",
    "\n",
    "#Create sentiment datasets\n",
    "sentByMethod <- cbind(binSent[,1], binSent[,2], binSent[,5], binSent[8], binSent[,12])\n",
    "sentMethods2 <- cbind(dirSent[,1], dirSent[,2], dirSent[,5], dirSent[8], dirSent[,12])\n",
    "\n",
    "#Write sentiment datasets to CSV files\n",
    "write.csv(sentByMethod, file=\"Binary Review Sentiments.csv\")\n",
    "write.csv(sentMethods2, file=\"Directional Review Sentiments.csv\")"
   ]
  },
  {
   "cell_type": "markdown",
   "metadata": {},
   "source": [
    "Finally, we used sentiment analysis to understand how Yelp reviewers felt in their experiences. A quick look at the dataset shows that most reviews were positive, but we wanted a more in-depth understanding as well.\n",
    "\n",
    "The first thing we did was plot the sentiment of each review. This was not extremely useful for our purposes but could have been for identifying trends over time if our reviews came with a time-stamp.\n",
    "\n",
    "We then studied the binary and directional sentiments of each review through four different sentiment analysis dictionary. Each dictionary defines different words with a certain positivity or negativity scores, which the model aggregates. Using a binary response gives a score of \"positive\" or \"negative\" for each review and a directional response gives a score of \"positive,\" \"neutral,\" or \"negative.\"\n",
    "\n",
    "We then output the results of our analysis in CSV files. Each file contains the review number, the number of words in the review which were referenced by all dictionaries, and the label each dictionary provided the review. As a result we are left with four scores for each review. In Excel, we assigned values as such: positive = 1, neutral = 0, negative = -1 and averaged these scores to arrive at an ultimate \"average sentiment.\"\n",
    "\n",
    "Again, we saw that reviews are mostly positive, but this look provides a more concrete conclusion that simply using star ratings."
   ]
  }
 ],
 "metadata": {
  "kernelspec": {
   "display_name": "R",
   "language": "R",
   "name": "ir"
  },
  "language_info": {
   "codemirror_mode": "r",
   "file_extension": ".r",
   "mimetype": "text/x-r-source",
   "name": "R",
   "pygments_lexer": "r",
   "version": "3.4.1"
  }
 },
 "nbformat": 4,
 "nbformat_minor": 2
}
